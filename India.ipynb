{
 "cells": [
  {
   "cell_type": "code",
   "execution_count": 1,
   "metadata": {},
   "outputs": [
    {
     "name": "stderr",
     "output_type": "stream",
     "text": [
      "C:\\Users\\Dell\\Anaconda2\\lib\\site-packages\\statsmodels\\compat\\pandas.py:56: FutureWarning: The pandas.core.datetools module is deprecated and will be removed in a future version. Please use the pandas.tseries module instead.\n",
      "  from pandas.core import datetools\n"
     ]
    }
   ],
   "source": [
    "import numpy as np\n",
    "import scipy\n",
    "from scipy import stats\n",
    "\n",
    "import pandas as pd\n",
    "import statsmodels.api as sm\n",
    "import statsmodels.tsa.api as smt\n",
    "import statsmodels.tsa.stattools \n",
    "from statsmodels.tsa.stattools import adfuller\n",
    "\n",
    "import requests\n",
    "from io import BytesIO\n",
    "from pandas_datareader.data import DataReader\n",
    "import pandas_datareader.data as web\n",
    "\n",
    "from datetime import datetime\n",
    "\n",
    "\n",
    "import xlsxwriter\n",
    "\n",
    "import numpy as np\n",
    "from scipy.stats import kurtosis, skew\n",
    "import matplotlib.pyplot as plt\n",
    "%matplotlib inline\n",
    "import matplotlib.axes\n",
    "\n",
    "import os\n",
    "import sys\n",
    "import scipy.stats as scs\n"
   ]
  },
  {
   "cell_type": "code",
   "execution_count": 3,
   "metadata": {
    "collapsed": true
   },
   "outputs": [],
   "source": [
    "#1 difference\n",
    "India = pd.read_excel('India.xlsx')"
   ]
  },
  {
   "cell_type": "code",
   "execution_count": 4,
   "metadata": {},
   "outputs": [
    {
     "name": "stdout",
     "output_type": "stream",
     "text": [
      "        DATE         A\n",
      "0  2/26/1999 -0.141282\n",
      "1  3/31/1999  0.177446\n",
      "2  4/30/1999 -0.286788\n",
      "3  5/28/1999  0.259845\n",
      "4  6/30/1999 -0.036893\n"
     ]
    }
   ],
   "source": [
    "print India.head()"
   ]
  },
  {
   "cell_type": "code",
   "execution_count": 5,
   "metadata": {
    "collapsed": true
   },
   "outputs": [],
   "source": [
    "India.set_index(Korea['DATE'], inplace=True)\n",
    "India.set_index('DATE', inplace=True)"
   ]
  },
  {
   "cell_type": "code",
   "execution_count": 6,
   "metadata": {
    "collapsed": true
   },
   "outputs": [],
   "source": [
    "dateparse = lambda India: pd.to_datetime(India, format='%m%d%Y')"
   ]
  },
  {
   "cell_type": "code",
   "execution_count": 11,
   "metadata": {
    "collapsed": true
   },
   "outputs": [],
   "source": [
    "India = India.dropna()"
   ]
  },
  {
   "cell_type": "code",
   "execution_count": 8,
   "metadata": {
    "collapsed": true
   },
   "outputs": [],
   "source": [
    "from statsmodels.tsa.stattools import adfuller\n",
    "def test_stationarity(timeseries):\n",
    "    #Perform Dickey-Fuller test:\n",
    "    print 'Results of Dickey-Fuller Test:'\n",
    "    dftest = adfuller(timeseries, autolag='AIC')\n",
    "    dfoutput = pd.Series(dftest[0:4], index=['Test Statistic','p-value','#Lags Used','Number of Observations Used'])\n",
    "    for key,value in dftest[4].items():\n",
    "        dfoutput['Critical Value (%s)'%key] = value\n",
    "    print dfoutput"
   ]
  },
  {
   "cell_type": "code",
   "execution_count": 12,
   "metadata": {},
   "outputs": [
    {
     "name": "stdout",
     "output_type": "stream",
     "text": [
      "Results of Dickey-Fuller Test:\n",
      "Test Statistic                -7.584646e+00\n",
      "p-value                        2.626253e-11\n",
      "#Lags Used                     8.000000e+00\n",
      "Number of Observations Used    2.140000e+02\n",
      "Critical Value (5%)           -2.875143e+00\n",
      "Critical Value (1%)           -3.461282e+00\n",
      "Critical Value (10%)          -2.574020e+00\n",
      "dtype: float64\n"
     ]
    }
   ],
   "source": [
    "test_stationarity(India[\"A\"])"
   ]
  },
  {
   "cell_type": "code",
   "execution_count": 14,
   "metadata": {},
   "outputs": [
    {
     "name": "stdout",
     "output_type": "stream",
     "text": [
      "                         Markov Switching Model Results                         \n",
      "================================================================================\n",
      "Dep. Variable:                        A   No. Observations:                  221\n",
      "Model:             MarkovAutoregression   Log Likelihood                 204.518\n",
      "Date:                  Sun, 26 Nov 2017   AIC                           -395.035\n",
      "Time:                          21:39:28   BIC                           -371.248\n",
      "Sample:                      04-30-1999   HQIC                          -385.430\n",
      "                           - 08-31-2017                                         \n",
      "Covariance Type:                 approx                                         \n",
      "                             Regime 0 parameters                              \n",
      "==============================================================================\n",
      "                 coef    std err          z      P>|z|      [0.025      0.975]\n",
      "------------------------------------------------------------------------------\n",
      "const         -0.0003      0.014     -0.023      0.982      -0.027       0.026\n",
      "                             Regime 1 parameters                              \n",
      "==============================================================================\n",
      "                 coef    std err          z      P>|z|      [0.025      0.975]\n",
      "------------------------------------------------------------------------------\n",
      "const         -0.0003      0.014     -0.023      0.982      -0.027       0.026\n",
      "                           Non-switching parameters                           \n",
      "==============================================================================\n",
      "                 coef    std err          z      P>|z|      [0.025      0.975]\n",
      "------------------------------------------------------------------------------\n",
      "sigma2         0.0092      0.001     10.512      0.000       0.007       0.011\n",
      "ar.L1         -0.5708      0.063     -9.091      0.000      -0.694      -0.448\n",
      "ar.L2         -0.3507      0.063     -5.599      0.000      -0.473      -0.228\n",
      "                         Regime transition parameters                         \n",
      "==============================================================================\n",
      "                 coef    std err          z      P>|z|      [0.025      0.975]\n",
      "------------------------------------------------------------------------------\n",
      "p[0->0]        0.5000   2.84e-09   1.76e+08      0.000       0.500       0.500\n",
      "p[1->0]        0.5000   2.98e-09   1.68e+08      0.000       0.500       0.500\n",
      "==============================================================================\n",
      "\n",
      "Warnings:\n",
      "[1] Covariance matrix calculated using numerical differentiation.\n",
      "[2] Covariance matrix is singular or near-singular, with condition number 5.23e+23. Standard errors may be unstable.\n"
     ]
    }
   ],
   "source": [
    "mod = sm.tsa.MarkovAutoregression(India[\"A\"], k_regimes=2, order=2, switching_ar=False)\n",
    "res = mod.fit()\n",
    "print (res.summary())\n"
   ]
  },
  {
   "cell_type": "code",
   "execution_count": 15,
   "metadata": {},
   "outputs": [
    {
     "name": "stdout",
     "output_type": "stream",
     "text": [
      "[ 2.00005805  1.99991258]\n"
     ]
    }
   ],
   "source": [
    "print(res.expected_durations)"
   ]
  },
  {
   "cell_type": "code",
   "execution_count": 16,
   "metadata": {},
   "outputs": [
    {
     "data": {
      "text/plain": [
       "<matplotlib.axes._subplots.AxesSubplot at 0xd4a82b0>"
      ]
     },
     "execution_count": 16,
     "metadata": {},
     "output_type": "execute_result"
    },
    {
     "data": {
      "image/png": "[encoded data removed]",
      "text/plain": [
       "<matplotlib.figure.Figure at 0xae76e10>"
      ]
     },
     "metadata": {},
     "output_type": "display_data"
    }
   ],
   "source": [
    "res.smoothed_marginal_probabilities[0].plot(\n",
    "    title='Probability of being in the  regime', figsize=(12,3))"
   ]
  },
  {
   "cell_type": "code",
   "execution_count": 21,
   "metadata": {},
   "outputs": [
    {
     "name": "stdout",
     "output_type": "stream",
     "text": [
      "                         Markov Switching Model Results                         \n",
      "================================================================================\n",
      "Dep. Variable:                        A   No. Observations:                  221\n",
      "Model:             MarkovAutoregression   Log Likelihood                 211.605\n",
      "Date:                  Sun, 26 Nov 2017   AIC                           -405.210\n",
      "Time:                          21:40:18   BIC                           -374.627\n",
      "Sample:                      04-30-1999   HQIC                          -392.861\n",
      "                           - 08-31-2017                                         \n",
      "Covariance Type:                 approx                                         \n",
      "                             Regime 0 parameters                              \n",
      "==============================================================================\n",
      "                 coef    std err          z      P>|z|      [0.025      0.975]\n",
      "------------------------------------------------------------------------------\n",
      "const          0.0046      0.007      0.678      0.498      -0.009       0.018\n",
      "ar.L1         -0.3400      0.220     -1.547      0.122      -0.771       0.091\n",
      "ar.L2         -0.6012      0.137     -4.388      0.000      -0.870      -0.333\n",
      "                             Regime 1 parameters                              \n",
      "==============================================================================\n",
      "                 coef    std err          z      P>|z|      [0.025      0.975]\n",
      "------------------------------------------------------------------------------\n",
      "const         -0.0078      0.013     -0.605      0.545      -0.033       0.018\n",
      "ar.L1         -0.8545      0.237     -3.606      0.000      -1.319      -0.390\n",
      "ar.L2         -0.0816      0.256     -0.318      0.750      -0.584       0.421\n",
      "                           Non-switching parameters                           \n",
      "==============================================================================\n",
      "                 coef    std err          z      P>|z|      [0.025      0.975]\n",
      "------------------------------------------------------------------------------\n",
      "sigma2         0.0067      0.001      6.541      0.000       0.005       0.009\n",
      "                         Regime transition parameters                         \n",
      "==============================================================================\n",
      "                 coef    std err          z      P>|z|      [0.025      0.975]\n",
      "------------------------------------------------------------------------------\n",
      "p[0->0]        0.6109      0.164      3.716      0.000       0.289       0.933\n",
      "p[1->0]        0.3947      0.423      0.934      0.350      -0.434       1.223\n",
      "==============================================================================\n",
      "\n",
      "Warnings:\n",
      "[1] Covariance matrix calculated using numerical differentiation.\n"
     ]
    }
   ],
   "source": [
    "mod2 = sm.tsa.MarkovAutoregression(India[\"A\"], k_regimes=2, order=2, switching_ar=True)\n",
    "res2 = mod2.fit()\n",
    "print (res2.summary())"
   ]
  },
  {
   "cell_type": "code",
   "execution_count": 22,
   "metadata": {},
   "outputs": [
    {
     "name": "stdout",
     "output_type": "stream",
     "text": [
      "                        Markov Switching Model Results                        \n",
      "==============================================================================\n",
      "Dep. Variable:                      A   No. Observations:                  223\n",
      "Model:               MarkovRegression   Log Likelihood                 176.775\n",
      "Date:                Sun, 26 Nov 2017   AIC                           -345.551\n",
      "Time:                        21:40:36   BIC                           -331.922\n",
      "Sample:                    02-26-1999   HQIC                          -340.049\n",
      "                         - 08-31-2017                                         \n",
      "Covariance Type:               approx                                         \n",
      "                             Regime 0 parameters                              \n",
      "==============================================================================\n",
      "                 coef    std err          z      P>|z|      [0.025      0.975]\n",
      "------------------------------------------------------------------------------\n",
      "sigma2         0.0070      0.001      6.425      0.000       0.005       0.009\n",
      "                             Regime 1 parameters                              \n",
      "==============================================================================\n",
      "                 coef    std err          z      P>|z|      [0.025      0.975]\n",
      "------------------------------------------------------------------------------\n",
      "sigma2         0.0203      0.003      5.836      0.000       0.013       0.027\n",
      "                         Regime transition parameters                         \n",
      "==============================================================================\n",
      "                 coef    std err          z      P>|z|      [0.025      0.975]\n",
      "------------------------------------------------------------------------------\n",
      "p[0->0]        0.9817      0.015     63.860      0.000       0.952       1.012\n",
      "p[1->0]        0.0218      0.019      1.132      0.258      -0.016       0.060\n",
      "==============================================================================\n",
      "\n",
      "Warnings:\n",
      "[1] Covariance matrix calculated using numerical differentiation.\n"
     ]
    }
   ],
   "source": [
    "#This model demonstrates estimation with regime heteroskedasticity (switching of variances) and no mean effect. \n",
    "\n",
    "mod3 = sm.tsa.MarkovRegression(India[\"A\"], k_regimes=2, trend='nc', switching_variance=True)\n",
    "res3 = mod3.fit()\n",
    "print(res3.summary())"
   ]
  }
 ],
 "metadata": {
  "kernelspec": {
   "display_name": "Python 2",
   "language": "python",
   "name": "python2"
  },
  "language_info": {
   "codemirror_mode": {
    "name": "ipython",
    "version": 2
   },
   "file_extension": ".py",
   "mimetype": "text/x-python",
   "name": "python",
   "nbconvert_exporter": "python",
   "pygments_lexer": "ipython2",
   "version": "2.7.13"
  }
 },
 "nbformat": 4,
 "nbformat_minor": 2
}
