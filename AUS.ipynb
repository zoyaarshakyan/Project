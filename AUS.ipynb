{
 "cells": [
  {
   "cell_type": "code",
   "execution_count": 3,
   "metadata": {},
   "outputs": [
    {
     "name": "stderr",
     "output_type": "stream",
     "text": [
      "C:\\Users\\Dell\\Anaconda2\\lib\\site-packages\\statsmodels\\compat\\pandas.py:56: FutureWarning: The pandas.core.datetools module is deprecated and will be removed in a future version. Please use the pandas.tseries module instead.\n",
      "  from pandas.core import datetools\n"
     ]
    }
   ],
   "source": [
    "import numpy as np\n",
    "import scipy\n",
    "from scipy import stats\n",
    "\n",
    "import pandas as pd\n",
    "import statsmodels.api as sm\n",
    "import statsmodels.tsa.api as smt\n",
    "import statsmodels.tsa.stattools \n",
    "from statsmodels.tsa.stattools import adfuller\n",
    "\n",
    "import requests\n",
    "from io import BytesIO\n",
    "from pandas_datareader.data import DataReader\n",
    "import pandas_datareader.data as web\n",
    "\n",
    "from datetime import datetime\n",
    "\n",
    "\n",
    "import xlsxwriter\n",
    "\n",
    "import numpy as np\n",
    "from scipy.stats import kurtosis, skew\n",
    "import matplotlib.pyplot as plt\n",
    "%matplotlib inline\n",
    "import matplotlib.axes\n",
    "\n",
    "import os\n",
    "import sys\n",
    "import scipy.stats as scs\n"
   ]
  },
  {
   "cell_type": "code",
   "execution_count": 57,
   "metadata": {
    "collapsed": true
   },
   "outputs": [],
   "source": [
    "usrec = DataReader('USREC', 'fred', start=datetime(1999, 1, 29), end=datetime(2017, 8, 31))"
   ]
  },
  {
   "cell_type": "code",
   "execution_count": 58,
   "metadata": {
    "collapsed": true
   },
   "outputs": [],
   "source": [
    "writer1 = pd.ExcelWriter('USREC.xlsx', engine='xlsxwriter')\n",
    "   \n",
    "usrec.to_excel(writer1, 'Sheet1')\n",
    "\n",
    "writer1.save()\n"
   ]
  },
  {
   "cell_type": "code",
   "execution_count": 43,
   "metadata": {
    "collapsed": true
   },
   "outputs": [],
   "source": [
    "#1 difference\n",
    "AUS = pd.read_excel('Aus.xlsx')"
   ]
  },
  {
   "cell_type": "code",
   "execution_count": 44,
   "metadata": {
    "collapsed": true
   },
   "outputs": [],
   "source": [
    "AUS.set_index(AUS['Date'], inplace=True)\n",
    "AUS.set_index('Date', inplace=True)"
   ]
  },
  {
   "cell_type": "code",
   "execution_count": 45,
   "metadata": {
    "collapsed": true
   },
   "outputs": [],
   "source": [
    "dateparse = lambda AUS: pd.to_datetime(AUS, format='%m%d%Y')"
   ]
  },
  {
   "cell_type": "code",
   "execution_count": 46,
   "metadata": {},
   "outputs": [
    {
     "name": "stdout",
     "output_type": "stream",
     "text": [
      "                Aus\n",
      "Date               \n",
      "2/26/1999 -0.083053\n",
      "3/31/1999  0.066484\n",
      "4/30/1999  0.052737\n",
      "5/28/1999 -0.176806\n",
      "6/30/1999  0.125780\n"
     ]
    }
   ],
   "source": [
    "print AUS.head()"
   ]
  },
  {
   "cell_type": "code",
   "execution_count": 37,
   "metadata": {
    "collapsed": true
   },
   "outputs": [],
   "source": [
    "from statsmodels.tsa.stattools import adfuller\n",
    "def test_stationarity(timeseries):\n",
    "    #Perform Dickey-Fuller test:\n",
    "    print 'Results of Dickey-Fuller Test:'\n",
    "    dftest = adfuller(timeseries, autolag='AIC')\n",
    "    dfoutput = pd.Series(dftest[0:4], index=['Test Statistic','p-value','#Lags Used','Number of Observations Used'])\n",
    "    for key,value in dftest[4].items():\n",
    "        dfoutput['Critical Value (%s)'%key] = value\n",
    "    print dfoutput"
   ]
  },
  {
   "cell_type": "code",
   "execution_count": 47,
   "metadata": {},
   "outputs": [
    {
     "name": "stdout",
     "output_type": "stream",
     "text": [
      "Results of Dickey-Fuller Test:\n",
      "Test Statistic                -6.735914e+00\n",
      "p-value                        3.207982e-09\n",
      "#Lags Used                     1.400000e+01\n",
      "Number of Observations Used    2.080000e+02\n",
      "Critical Value (5%)           -2.875538e+00\n",
      "Critical Value (1%)           -3.462186e+00\n",
      "Critical Value (10%)          -2.574231e+00\n",
      "dtype: float64\n"
     ]
    }
   ],
   "source": [
    "test_stationarity(AUS[\"Aus\"])"
   ]
  },
  {
   "cell_type": "code",
   "execution_count": 53,
   "metadata": {},
   "outputs": [
    {
     "name": "stdout",
     "output_type": "stream",
     "text": [
      "                         Markov Switching Model Results                         \n",
      "================================================================================\n",
      "Dep. Variable:                      Aus   No. Observations:                  220\n",
      "Model:             MarkovAutoregression   Log Likelihood                 272.788\n",
      "Date:                  Sun, 26 Nov 2017   AIC                           -529.577\n",
      "Time:                          21:16:51   BIC                           -502.428\n",
      "Sample:                      05-28-1999   HQIC                          -518.613\n",
      "                           - 08-31-2017                                         \n",
      "Covariance Type:                 approx                                         \n",
      "                             Regime 0 parameters                              \n",
      "==============================================================================\n",
      "                 coef    std err          z      P>|z|      [0.025      0.975]\n",
      "------------------------------------------------------------------------------\n",
      "const         -0.0002      0.011     -0.015      0.988      -0.022       0.022\n",
      "                             Regime 1 parameters                              \n",
      "==============================================================================\n",
      "                 coef    std err          z      P>|z|      [0.025      0.975]\n",
      "------------------------------------------------------------------------------\n",
      "const         -0.0002      0.011     -0.015      0.988      -0.022       0.022\n",
      "                           Non-switching parameters                           \n",
      "==============================================================================\n",
      "                 coef    std err          z      P>|z|      [0.025      0.975]\n",
      "------------------------------------------------------------------------------\n",
      "sigma2         0.0049      0.000     10.488      0.000       0.004       0.006\n",
      "ar.L1         -0.7211      0.066    -10.913      0.000      -0.851      -0.592\n",
      "ar.L2         -0.5104      0.074     -6.864      0.000      -0.656      -0.365\n",
      "ar.L3         -0.1894      0.066     -2.865      0.004      -0.319      -0.060\n",
      "                         Regime transition parameters                         \n",
      "==============================================================================\n",
      "                 coef    std err          z      P>|z|      [0.025      0.975]\n",
      "------------------------------------------------------------------------------\n",
      "p[0->0]        0.5000   1.64e-09   3.05e+08      0.000       0.500       0.500\n",
      "p[1->0]        0.5000   2.26e-09   2.21e+08      0.000       0.500       0.500\n",
      "==============================================================================\n",
      "\n",
      "Warnings:\n",
      "[1] Covariance matrix calculated using numerical differentiation.\n",
      "[2] Covariance matrix is singular or near-singular, with condition number 1.46e+24. Standard errors may be unstable.\n"
     ]
    }
   ],
   "source": [
    "mod = sm.tsa.MarkovAutoregression(AUS['Aus'], k_regimes=2, order=3, switching_ar=False)\n",
    "res = mod.fit()\n",
    "print (res.summary())\n"
   ]
  },
  {
   "cell_type": "code",
   "execution_count": 54,
   "metadata": {},
   "outputs": [
    {
     "name": "stdout",
     "output_type": "stream",
     "text": [
      "[ 2.00008625  1.99986129]\n"
     ]
    }
   ],
   "source": [
    "print(res.expected_durations)"
   ]
  },
  {
   "cell_type": "code",
   "execution_count": 55,
   "metadata": {},
   "outputs": [
    {
     "data": {
      "text/plain": [
       "<matplotlib.axes._subplots.AxesSubplot at 0xd5da780>"
      ]
     },
     "execution_count": 55,
     "metadata": {},
     "output_type": "execute_result"
    },
    {
     "data": {
      "image/png": "[encoded data removed]",
      "text/plain": [
       "<matplotlib.figure.Figure at 0xd5570f0>"
      ]
     },
     "metadata": {},
     "output_type": "display_data"
    }
   ],
   "source": [
    "res.smoothed_marginal_probabilities[0].plot(\n",
    "    title='Probability of being in the  regime', figsize=(12,3))"
   ]
  },
  {
   "cell_type": "code",
   "execution_count": 59,
   "metadata": {},
   "outputs": [
    {
     "name": "stdout",
     "output_type": "stream",
     "text": [
      "                         Markov Switching Model Results                         \n",
      "================================================================================\n",
      "Dep. Variable:                      Aus   No. Observations:                  220\n",
      "Model:             MarkovAutoregression   Log Likelihood                 283.204\n",
      "Date:                  Sun, 26 Nov 2017   AIC                           -544.409\n",
      "Time:                          21:18:25   BIC                           -507.079\n",
      "Sample:                      05-28-1999   HQIC                          -529.334\n",
      "                           - 08-31-2017                                         \n",
      "Covariance Type:                 approx                                         \n",
      "                             Regime 0 parameters                              \n",
      "==============================================================================\n",
      "                 coef    std err          z      P>|z|      [0.025      0.975]\n",
      "------------------------------------------------------------------------------\n",
      "const          0.0014      0.008      0.191      0.848      -0.013       0.016\n",
      "ar.L1         -0.4015      0.149     -2.702      0.007      -0.693      -0.110\n",
      "ar.L2         -0.9673      0.172     -5.610      0.000      -1.305      -0.629\n",
      "ar.L3         -0.4709      0.174     -2.713      0.007      -0.811      -0.131\n",
      "                             Regime 1 parameters                              \n",
      "==============================================================================\n",
      "                 coef    std err          z      P>|z|      [0.025      0.975]\n",
      "------------------------------------------------------------------------------\n",
      "const         -0.0027      0.003     -0.832      0.406      -0.009       0.004\n",
      "ar.L1         -0.8719      0.091     -9.531      0.000      -1.051      -0.693\n",
      "ar.L2         -0.3664      0.089     -4.098      0.000      -0.542      -0.191\n",
      "ar.L3         -0.0866      0.077     -1.122      0.262      -0.238       0.065\n",
      "                           Non-switching parameters                           \n",
      "==============================================================================\n",
      "                 coef    std err          z      P>|z|      [0.025      0.975]\n",
      "------------------------------------------------------------------------------\n",
      "sigma2         0.0036      0.000      8.684      0.000       0.003       0.004\n",
      "                         Regime transition parameters                         \n",
      "==============================================================================\n",
      "                 coef    std err          z      P>|z|      [0.025      0.975]\n",
      "------------------------------------------------------------------------------\n",
      "p[0->0]        0.4014      0.167      2.400      0.016       0.074       0.729\n",
      "p[1->0]        0.2035      0.115      1.765      0.078      -0.023       0.429\n",
      "==============================================================================\n",
      "\n",
      "Warnings:\n",
      "[1] Covariance matrix calculated using numerical differentiation.\n"
     ]
    }
   ],
   "source": [
    "mod2 = sm.tsa.MarkovAutoregression(AUS['Aus'], k_regimes=2, order=3, switching_ar=True)\n",
    "res2 = mod2.fit()\n",
    "print (res2.summary())"
   ]
  },
  {
   "cell_type": "code",
   "execution_count": 60,
   "metadata": {},
   "outputs": [
    {
     "name": "stdout",
     "output_type": "stream",
     "text": [
      "                        Markov Switching Model Results                        \n",
      "==============================================================================\n",
      "Dep. Variable:                    Aus   No. Observations:                  223\n",
      "Model:               MarkovRegression   Log Likelihood                 238.591\n",
      "Date:                Sun, 26 Nov 2017   AIC                           -469.182\n",
      "Time:                        21:19:01   BIC                           -455.553\n",
      "Sample:                    02-26-1999   HQIC                          -463.680\n",
      "                         - 08-31-2017                                         \n",
      "Covariance Type:               approx                                         \n",
      "                             Regime 0 parameters                              \n",
      "==============================================================================\n",
      "                 coef    std err          z      P>|z|      [0.025      0.975]\n",
      "------------------------------------------------------------------------------\n",
      "sigma2         0.0018      0.001      2.295      0.022       0.000       0.003\n",
      "                             Regime 1 parameters                              \n",
      "==============================================================================\n",
      "                 coef    std err          z      P>|z|      [0.025      0.975]\n",
      "------------------------------------------------------------------------------\n",
      "sigma2         0.0112      0.002      5.632      0.000       0.007       0.015\n",
      "                         Regime transition parameters                         \n",
      "==============================================================================\n",
      "                 coef    std err          z      P>|z|      [0.025      0.975]\n",
      "------------------------------------------------------------------------------\n",
      "p[0->0]        0.8457      0.071     11.842      0.000       0.706       0.986\n",
      "p[1->0]        0.0953      0.054      1.778      0.075      -0.010       0.200\n",
      "==============================================================================\n",
      "\n",
      "Warnings:\n",
      "[1] Covariance matrix calculated using numerical differentiation.\n"
     ]
    }
   ],
   "source": [
    "#This model demonstrates estimation with regime heteroskedasticity (switching of variances) and no mean effect. \n",
    "\n",
    "mod3 = sm.tsa.MarkovRegression(AUS['Aus'], k_regimes=2, trend='nc', switching_variance=True)\n",
    "res3 = mod3.fit()\n",
    "print(res3.summary())"
   ]
  },
  {
   "cell_type": "code",
   "execution_count": 68,
   "metadata": {
    "collapsed": true
   },
   "outputs": [],
   "source": [
    "#Filardo (1994) Time-Varying Transition Probabilities"
   ]
  }
 ],
 "metadata": {
  "kernelspec": {
   "display_name": "Python 2",
   "language": "python",
   "name": "python2"
  },
  "language_info": {
   "codemirror_mode": {
    "name": "ipython",
    "version": 2
   },
   "file_extension": ".py",
   "mimetype": "text/x-python",
   "name": "python",
   "nbconvert_exporter": "python",
   "pygments_lexer": "ipython2",
   "version": "2.7.13"
  }
 },
 "nbformat": 4,
 "nbformat_minor": 2
}
