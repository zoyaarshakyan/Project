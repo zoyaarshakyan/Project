{
 "cells": [
  {
   "cell_type": "code",
   "execution_count": 2,
   "metadata": {},
   "outputs": [
    {
     "name": "stderr",
     "output_type": "stream",
     "text": [
      "C:\\Users\\Dell\\Anaconda2\\lib\\site-packages\\statsmodels\\compat\\pandas.py:56: FutureWarning: The pandas.core.datetools module is deprecated and will be removed in a future version. Please use the pandas.tseries module instead.\n",
      "  from pandas.core import datetools\n"
     ]
    }
   ],
   "source": [
    "import numpy as np\n",
    "import scipy\n",
    "from scipy import stats\n",
    "\n",
    "import pandas as pd\n",
    "import statsmodels.api as sm\n",
    "import statsmodels.tsa.api as smt\n",
    "import statsmodels.tsa.stattools \n",
    "from statsmodels.tsa.stattools import adfuller\n",
    "\n",
    "import requests\n",
    "from io import BytesIO\n",
    "from pandas_datareader.data import DataReader\n",
    "import pandas_datareader.data as web\n",
    "\n",
    "from datetime import datetime\n",
    "\n",
    "\n",
    "import xlsxwriter\n",
    "\n",
    "import numpy as np\n",
    "from scipy.stats import kurtosis, skew\n",
    "import matplotlib.pyplot as plt\n",
    "%matplotlib inline\n",
    "import matplotlib.axes\n",
    "\n",
    "import os\n",
    "import sys\n",
    "import scipy.stats as scs\n"
   ]
  },
  {
   "cell_type": "code",
   "execution_count": 18,
   "metadata": {},
   "outputs": [],
   "source": [
    "#1 difference\n",
    "Korea = pd.read_excel('Korea.xlsx')"
   ]
  },
  {
   "cell_type": "code",
   "execution_count": 19,
   "metadata": {},
   "outputs": [
    {
     "name": "stdout",
     "output_type": "stream",
     "text": [
      "        Date         C\n",
      "0  2/26/1999 -0.159573\n",
      "1  3/31/1999  0.270392\n",
      "2  4/30/1999  0.066698\n",
      "3  5/28/1999 -0.212487\n",
      "4  6/30/1999  0.234716\n"
     ]
    }
   ],
   "source": [
    "print Korea.head()"
   ]
  },
  {
   "cell_type": "code",
   "execution_count": 20,
   "metadata": {
    "collapsed": true
   },
   "outputs": [],
   "source": [
    "Korea.set_index(Korea['Date'], inplace=True)\n",
    "Korea.set_index('Date', inplace=True)"
   ]
  },
  {
   "cell_type": "code",
   "execution_count": 21,
   "metadata": {
    "collapsed": true
   },
   "outputs": [],
   "source": [
    "dateparse = lambda Korea: pd.to_datetime(Korea, format='%m%d%Y')"
   ]
  },
  {
   "cell_type": "code",
   "execution_count": 22,
   "metadata": {},
   "outputs": [
    {
     "name": "stdout",
     "output_type": "stream",
     "text": [
      "                  C\n",
      "Date               \n",
      "2/26/1999 -0.159573\n",
      "3/31/1999  0.270392\n",
      "4/30/1999  0.066698\n",
      "5/28/1999 -0.212487\n",
      "6/30/1999  0.234716\n"
     ]
    }
   ],
   "source": [
    "print Korea.head()"
   ]
  },
  {
   "cell_type": "code",
   "execution_count": 23,
   "metadata": {
    "collapsed": true
   },
   "outputs": [],
   "source": [
    "from statsmodels.tsa.stattools import adfuller\n",
    "def test_stationarity(timeseries):\n",
    "    #Perform Dickey-Fuller test:\n",
    "    print 'Results of Dickey-Fuller Test:'\n",
    "    dftest = adfuller(timeseries, autolag='AIC')\n",
    "    dfoutput = pd.Series(dftest[0:4], index=['Test Statistic','p-value','#Lags Used','Number of Observations Used'])\n",
    "    for key,value in dftest[4].items():\n",
    "        dfoutput['Critical Value (%s)'%key] = value\n",
    "    print dfoutput"
   ]
  },
  {
   "cell_type": "code",
   "execution_count": 24,
   "metadata": {},
   "outputs": [
    {
     "name": "stdout",
     "output_type": "stream",
     "text": [
      "Results of Dickey-Fuller Test:\n",
      "Test Statistic                -8.702686e+00\n",
      "p-value                        3.771910e-14\n",
      "#Lags Used                     7.000000e+00\n",
      "Number of Observations Used    2.150000e+02\n",
      "Critical Value (5%)           -2.875079e+00\n",
      "Critical Value (1%)           -3.461136e+00\n",
      "Critical Value (10%)          -2.573986e+00\n",
      "dtype: float64\n"
     ]
    }
   ],
   "source": [
    "test_stationarity(Korea[\"C\"])"
   ]
  },
  {
   "cell_type": "code",
   "execution_count": 25,
   "metadata": {},
   "outputs": [
    {
     "name": "stdout",
     "output_type": "stream",
     "text": [
      "                         Markov Switching Model Results                         \n",
      "================================================================================\n",
      "Dep. Variable:                        C   No. Observations:                  220\n",
      "Model:             MarkovAutoregression   Log Likelihood                 210.124\n",
      "Date:                  Sun, 26 Nov 2017   AIC                           -404.247\n",
      "Time:                          21:35:54   BIC                           -377.098\n",
      "Sample:                      05-28-1999   HQIC                          -393.284\n",
      "                           - 08-31-2017                                         \n",
      "Covariance Type:                 approx                                         \n",
      "                             Regime 0 parameters                              \n",
      "==============================================================================\n",
      "                 coef    std err          z      P>|z|      [0.025      0.975]\n",
      "------------------------------------------------------------------------------\n",
      "const         -0.0004      0.014     -0.032      0.974      -0.028       0.027\n",
      "                             Regime 1 parameters                              \n",
      "==============================================================================\n",
      "                 coef    std err          z      P>|z|      [0.025      0.975]\n",
      "------------------------------------------------------------------------------\n",
      "const         -0.0004      0.014     -0.032      0.974      -0.028       0.027\n",
      "                           Non-switching parameters                           \n",
      "==============================================================================\n",
      "                 coef    std err          z      P>|z|      [0.025      0.975]\n",
      "------------------------------------------------------------------------------\n",
      "sigma2         0.0087      0.001     10.488      0.000       0.007       0.010\n",
      "ar.L1         -0.7361      0.066    -11.120      0.000      -0.866      -0.606\n",
      "ar.L2         -0.5450      0.073     -7.488      0.000      -0.688      -0.402\n",
      "ar.L3         -0.1504      0.065     -2.298      0.022      -0.279      -0.022\n",
      "                         Regime transition parameters                         \n",
      "==============================================================================\n",
      "                 coef    std err          z      P>|z|      [0.025      0.975]\n",
      "------------------------------------------------------------------------------\n",
      "p[0->0]        0.5000   2.58e-09   1.94e+08      0.000       0.500       0.500\n",
      "p[1->0]        0.5000   3.71e-09   1.35e+08      0.000       0.500       0.500\n",
      "==============================================================================\n",
      "\n",
      "Warnings:\n",
      "[1] Covariance matrix calculated using numerical differentiation.\n",
      "[2] Covariance matrix is singular or near-singular, with condition number 1.09e+24. Standard errors may be unstable.\n"
     ]
    }
   ],
   "source": [
    "mod = sm.tsa.MarkovAutoregression(Korea[\"C\"], k_regimes=2, order=3, switching_ar=False)\n",
    "res = mod.fit()\n",
    "print (res.summary())\n"
   ]
  },
  {
   "cell_type": "code",
   "execution_count": 26,
   "metadata": {},
   "outputs": [
    {
     "name": "stdout",
     "output_type": "stream",
     "text": [
      "[ 2.00019396  1.99990415]\n"
     ]
    }
   ],
   "source": [
    "print(res.expected_durations)"
   ]
  },
  {
   "cell_type": "code",
   "execution_count": 27,
   "metadata": {},
   "outputs": [
    {
     "data": {
      "text/plain": [
       "<matplotlib.axes._subplots.AxesSubplot at 0xd59cd68>"
      ]
     },
     "execution_count": 27,
     "metadata": {},
     "output_type": "execute_result"
    },
    {
     "data": {
      "image/png": "[encoded data removed]",
      "text/plain": [
       "<matplotlib.figure.Figure at 0xae58390>"
      ]
     },
     "metadata": {},
     "output_type": "display_data"
    }
   ],
   "source": [
    "res.smoothed_marginal_probabilities[0].plot(\n",
    "    title='Probability of being in the  regime', figsize=(12,3))"
   ]
  },
  {
   "cell_type": "code",
   "execution_count": 28,
   "metadata": {},
   "outputs": [
    {
     "name": "stdout",
     "output_type": "stream",
     "text": [
      "                         Markov Switching Model Results                         \n",
      "================================================================================\n",
      "Dep. Variable:                        C   No. Observations:                  220\n",
      "Model:             MarkovAutoregression   Log Likelihood                 221.197\n",
      "Date:                  Sun, 26 Nov 2017   AIC                           -420.394\n",
      "Time:                          21:36:20   BIC                           -383.064\n",
      "Sample:                      05-28-1999   HQIC                          -405.319\n",
      "                           - 08-31-2017                                         \n",
      "Covariance Type:                 approx                                         \n",
      "                             Regime 0 parameters                              \n",
      "==============================================================================\n",
      "                 coef    std err          z      P>|z|      [0.025      0.975]\n",
      "------------------------------------------------------------------------------\n",
      "const         -0.0106      0.007     -1.536      0.125      -0.024       0.003\n",
      "ar.L1         -0.8362      0.095     -8.804      0.000      -1.022      -0.650\n",
      "ar.L2         -0.2825      0.106     -2.662      0.008      -0.490      -0.074\n",
      "ar.L3         -0.2517      0.115     -2.189      0.029      -0.477      -0.026\n",
      "                             Regime 1 parameters                              \n",
      "==============================================================================\n",
      "                 coef    std err          z      P>|z|      [0.025      0.975]\n",
      "------------------------------------------------------------------------------\n",
      "const          0.0109      0.008      1.380      0.167      -0.005       0.026\n",
      "ar.L1         -0.6596      0.127     -5.176      0.000      -0.909      -0.410\n",
      "ar.L2         -0.9106      0.136     -6.712      0.000      -1.177      -0.645\n",
      "ar.L3         -0.0176      0.106     -0.165      0.869      -0.226       0.191\n",
      "                           Non-switching parameters                           \n",
      "==============================================================================\n",
      "                 coef    std err          z      P>|z|      [0.025      0.975]\n",
      "------------------------------------------------------------------------------\n",
      "sigma2         0.0059      0.001      8.218      0.000       0.005       0.007\n",
      "                         Regime transition parameters                         \n",
      "==============================================================================\n",
      "                 coef    std err          z      P>|z|      [0.025      0.975]\n",
      "------------------------------------------------------------------------------\n",
      "p[0->0]        0.6061      0.188      3.224      0.001       0.238       0.975\n",
      "p[1->0]        0.5339      0.133      4.028      0.000       0.274       0.794\n",
      "==============================================================================\n",
      "\n",
      "Warnings:\n",
      "[1] Covariance matrix calculated using numerical differentiation.\n"
     ]
    }
   ],
   "source": [
    "mod2 = sm.tsa.MarkovAutoregression(Korea[\"C\"], k_regimes=2, order=3, switching_ar=True)\n",
    "res2 = mod2.fit()\n",
    "print (res2.summary())"
   ]
  },
  {
   "cell_type": "code",
   "execution_count": 29,
   "metadata": {},
   "outputs": [
    {
     "name": "stdout",
     "output_type": "stream",
     "text": [
      "                        Markov Switching Model Results                        \n",
      "==============================================================================\n",
      "Dep. Variable:                      C   No. Observations:                  223\n",
      "Model:               MarkovRegression   Log Likelihood                 176.764\n",
      "Date:                Sun, 26 Nov 2017   AIC                           -345.527\n",
      "Time:                        21:36:33   BIC                           -331.899\n",
      "Sample:                    02-26-1999   HQIC                          -340.025\n",
      "                         - 08-31-2017                                         \n",
      "Covariance Type:               approx                                         \n",
      "                             Regime 0 parameters                              \n",
      "==============================================================================\n",
      "                 coef    std err          z      P>|z|      [0.025      0.975]\n",
      "------------------------------------------------------------------------------\n",
      "sigma2         0.0045      0.001      4.614      0.000       0.003       0.006\n",
      "                             Regime 1 parameters                              \n",
      "==============================================================================\n",
      "                 coef    std err          z      P>|z|      [0.025      0.975]\n",
      "------------------------------------------------------------------------------\n",
      "sigma2         0.0243      0.004      6.325      0.000       0.017       0.032\n",
      "                         Regime transition parameters                         \n",
      "==============================================================================\n",
      "                 coef    std err          z      P>|z|      [0.025      0.975]\n",
      "------------------------------------------------------------------------------\n",
      "p[0->0]        0.9651      0.023     41.860      0.000       0.920       1.010\n",
      "p[1->0]        0.0341      0.022      1.534      0.125      -0.009       0.078\n",
      "==============================================================================\n",
      "\n",
      "Warnings:\n",
      "[1] Covariance matrix calculated using numerical differentiation.\n"
     ]
    }
   ],
   "source": [
    "#This model demonstrates estimation with regime heteroskedasticity (switching of variances) and no mean effect. \n",
    "\n",
    "mod3 = sm.tsa.MarkovRegression(Korea[\"C\"], k_regimes=2, trend='nc', switching_variance=True)\n",
    "res3 = mod3.fit()\n",
    "print(res3.summary())"
   ]
  },
  {
   "cell_type": "code",
   "execution_count": 68,
   "metadata": {
    "collapsed": true
   },
   "outputs": [],
   "source": [
    "#Filardo (1994) Time-Varying Transition Probabilities"
   ]
  }
 ],
 "metadata": {
  "kernelspec": {
   "display_name": "Python 2",
   "language": "python",
   "name": "python2"
  },
  "language_info": {
   "codemirror_mode": {
    "name": "ipython",
    "version": 2
   },
   "file_extension": ".py",
   "mimetype": "text/x-python",
   "name": "python",
   "nbconvert_exporter": "python",
   "pygments_lexer": "ipython2",
   "version": "2.7.13"
  }
 },
 "nbformat": 4,
 "nbformat_minor": 2
}
